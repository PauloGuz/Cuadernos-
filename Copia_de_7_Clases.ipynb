{
  "nbformat": 4,
  "nbformat_minor": 0,
  "metadata": {
    "colab": {
      "provenance": [],
      "include_colab_link": true
    },
    "kernelspec": {
      "name": "python3",
      "display_name": "Python 3"
    },
    "language_info": {
      "name": "python"
    }
  },
  "cells": [
    {
      "cell_type": "markdown",
      "metadata": {
        "id": "view-in-github",
        "colab_type": "text"
      },
      "source": [
        "<a href=\"https://colab.research.google.com/github/PauloGuz/Cuadernos-/blob/main/Copia_de_7_Clases.ipynb\" target=\"_parent\"><img src=\"https://colab.research.google.com/assets/colab-badge.svg\" alt=\"Open In Colab\"/></a>"
      ]
    },
    {
      "cell_type": "markdown",
      "source": [
        "# Clases en python.\n",
        "\n",
        "Las clases son una forma de organizar y estructurar el código en Python. Pueden contener funciones y variables, lo que las hace muy versátiles. Las clases son una parte fundamental de la programación orientada a objetos (POO).\n",
        "\n",
        "La POO es un paradigma de programación que utiliza objetos para representar entidades del mundo real. Por ejemplo, una clase \"Coche\" podría representar un coche del mundo real, con sus propiedades (marca, modelo, color, etc.) y sus métodos (acelerar, frenar, girar, etc.).\n",
        "\n",
        "\n",
        "En términos simples, una clase en programación es una plantilla o molde que se utiliza para crear objetos. La clase define las propiedades y los comportamientos de los objetos que se crean a partir de ella.\n",
        "\n",
        "**Ejemplo**:\n",
        "\n",
        "Piensa en una clase como si fuera un plano para construir un edificio. El plano especifica cómo debe ser el edificio, incluyendo el número de pisos, el número de habitaciones, el tamaño de las ventanas, etc.\n",
        "\n",
        "De manera similar, una clase define las características y comportamientos que tendrá un objeto. Por ejemplo, si tenemos una clase \"Coche\", podemos definir las propiedades de un coche, como su marca, modelo, color, etc. y los comportamientos que tiene un coche, como acelerar, frenar y girar. Luego, podemos crear múltiples objetos \"coche\" a partir de esta clase, cada uno con sus propias propiedades y comportamientos.\n",
        "\n"
      ],
      "metadata": {
        "id": "hFnAE4eorCHN"
      }
    },
    {
      "cell_type": "markdown",
      "source": [
        "### **Crear una clase**\n",
        "\n",
        "Para crear una clase en Python, usamos la palabra clave \"class\", seguida del nombre de la clase:"
      ],
      "metadata": {
        "id": "E-tNF60K_9b9"
      }
    },
    {
      "cell_type": "code",
      "execution_count": 1,
      "metadata": {
        "id": "hi8DOAlZmPjH",
        "colab": {
          "base_uri": "https://localhost:8080/",
          "height": 106
        },
        "outputId": "3e6ab1a4-220a-492a-efdf-976037636a0a"
      },
      "outputs": [
        {
          "output_type": "error",
          "ename": "SyntaxError",
          "evalue": "incomplete input (<ipython-input-1-0bc96e81d1fc>, line 1)",
          "traceback": [
            "\u001b[0;36m  File \u001b[0;32m\"<ipython-input-1-0bc96e81d1fc>\"\u001b[0;36m, line \u001b[0;32m1\u001b[0m\n\u001b[0;31m    class Coche:\u001b[0m\n\u001b[0m                ^\u001b[0m\n\u001b[0;31mSyntaxError\u001b[0m\u001b[0;31m:\u001b[0m incomplete input\n"
          ]
        }
      ],
      "source": [
        "class Coche:"
      ]
    },
    {
      "cell_type": "markdown",
      "source": [
        "Dentro de la clase, podemos definir variables y funciones. Las variables se llaman \"atributos\" y las funciones se llaman \"métodos\"."
      ],
      "metadata": {
        "id": "aTnx3vjGAIh7"
      }
    },
    {
      "cell_type": "markdown",
      "source": [
        "#### **Atributos**\n",
        "\n",
        "Los atributos son variables que pertenecen a una clase. Por ejemplo, en una clase \"Coche\", los atributos podrían ser \"marca\", \"modelo\" y \"color\". Para definir un atributo, lo hacemos dentro de la clase, pero fuera de cualquier método:"
      ],
      "metadata": {
        "id": "DT2TvFHxAJlz"
      }
    },
    {
      "cell_type": "code",
      "source": [
        "class Coche:\n",
        "    marca = \"Toyota\"\n",
        "    modelo = \"Corolla\"\n",
        "    color = \"Rojo\""
      ],
      "metadata": {
        "id": "sfC5pdD7ANuq"
      },
      "execution_count": null,
      "outputs": []
    },
    {
      "cell_type": "markdown",
      "source": [
        "#### **Métodos**\n",
        "\n",
        "Los métodos son funciones que pertenecen a una clase. Por ejemplo, en una clase \"Coche\", los métodos podrían ser \"acelerar\", \"frenar\" y \"girar\". Para definir un método, lo hacemos dentro de la clase:\n",
        "\n"
      ],
      "metadata": {
        "id": "1TDchxG8ASQD"
      }
    },
    {
      "cell_type": "code",
      "source": [
        "class Coche:\n",
        "    marca = \"Toyota\"\n",
        "    modelo = \"Corolla\"\n",
        "    color = \"Rojo\"\n",
        "\n",
        "    def acelerar(self):\n",
        "        print(\"El coche está acelerando\")\n",
        "\n",
        "    def frenar(self):\n",
        "        print(\"El coche está frenando\")\n",
        "\n",
        "    def girar(self, direccion):\n",
        "        print(\"El coche está girando hacia \" + direccion)"
      ],
      "metadata": {
        "id": "q33frF1wAX9C"
      },
      "execution_count": null,
      "outputs": []
    },
    {
      "cell_type": "markdown",
      "source": [
        "**Nota**: El primer parámetro de un método siempre es \"self\". Este parámetro hace referencia al objeto que se está creando. Por ejemplo, si creamos un objeto \"coche\" a partir de la clase \"Coche\", al llamar al método \"acelerar\", el objeto \"coche\" se pasará automáticamente como primer parámetro."
      ],
      "metadata": {
        "id": "o41PexstAdY6"
      }
    },
    {
      "cell_type": "markdown",
      "source": [
        "### **Crear un objeto**\n",
        "\n",
        "Para crear un objeto a partir de una clase, simplemente hacemos lo siguiente:"
      ],
      "metadata": {
        "id": "hnRv4ZMtAgt7"
      }
    },
    {
      "cell_type": "code",
      "source": [
        "coche = Coche()"
      ],
      "metadata": {
        "id": "4TlvhlD1Alrs"
      },
      "execution_count": null,
      "outputs": []
    },
    {
      "cell_type": "markdown",
      "source": [
        "Esto crea un objeto \"coche\" a partir de la clase \"Coche\". Podemos acceder a los atributos y métodos del objeto de la siguiente manera:"
      ],
      "metadata": {
        "id": "fMCPalavAm-D"
      }
    },
    {
      "cell_type": "code",
      "source": [
        "print(coche.marca)\n",
        "print(coche.modelo)\n",
        "print(coche.color)\n",
        "\n",
        "coche.acelerar()\n",
        "coche.frenar()\n",
        "coche.girar(\"izquierda\")"
      ],
      "metadata": {
        "id": "HZAkrbk7Aoti"
      },
      "execution_count": null,
      "outputs": []
    },
    {
      "cell_type": "markdown",
      "source": [
        "### Ejemplo_1\n",
        "\n",
        "En este ejemplo, podríamos crear una clase llamada \"Perro\" que tenga atributos como nombre, raza, edad, tamaño, y métodos como ladrar, correr, morder, etc."
      ],
      "metadata": {
        "id": "TR-xIdH1AqQL"
      }
    },
    {
      "cell_type": "code",
      "source": [
        "class Perro:\n",
        "    def __init__(self, nombre, raza, edad, tamaño):\n",
        "        self.nombre = nombre\n",
        "        self.raza = raza\n",
        "        self.edad = edad\n",
        "        self.tamaño = tamaño\n",
        "\n",
        "    def ladrar(self):\n",
        "        print(f\"{self.nombre} está ladrando.\")\n",
        "\n",
        "    def correr(self):\n",
        "        print(f\"{self.nombre} está corriendo.\")\n",
        "\n",
        "    def morder(self):\n",
        "        print(f\"{self.nombre} está mordiendo.\")"
      ],
      "metadata": {
        "id": "Rk7z54NkA9OK"
      },
      "execution_count": null,
      "outputs": []
    },
    {
      "cell_type": "markdown",
      "source": [
        "En este ejemplo, la función '__init__' es el constructor de la clase, que se utiliza para inicializar los atributos de la clase. Luego, se definen los métodos ladrar, correr y morder que describen los comportamientos que puede tener un perro.\n",
        "\n",
        "Podemos crear objetos de la clase \"Perro\" de la siguiente manera:"
      ],
      "metadata": {
        "id": "KLr8hp8oA6ai"
      }
    },
    {
      "cell_type": "code",
      "source": [
        "perro1 = Perro(\"Fido\", \"Labrador\", 3, \"Grande\")\n",
        "perro2 = Perro(\"Toby\", \"Chihuahua\", 2, \"Pequeño\")"
      ],
      "metadata": {
        "id": "N2HsvjXhA-jB"
      },
      "execution_count": null,
      "outputs": []
    },
    {
      "cell_type": "markdown",
      "source": [
        "Cada objeto creado a partir de la clase \"Perro\" tendrá sus propios atributos y comportamientos. Por ejemplo, podemos llamar al método ladrar del objeto perro1 de la siguiente manera"
      ],
      "metadata": {
        "id": "fQEU8p17Cayg"
      }
    },
    {
      "cell_type": "code",
      "source": [
        "perro1.ladrar()"
      ],
      "metadata": {
        "id": "rhS8cNz8Calx"
      },
      "execution_count": null,
      "outputs": []
    },
    {
      "cell_type": "markdown",
      "source": [
        "### Ejercicio_2\n",
        "\n",
        "Supongamos que estás construyendo un sistema de tienda en línea en Python. El sistema necesita manejar muchos productos diferentes, cada uno con sus propias propiedades como nombre, descripción, precio, inventario, etc. También necesita manejar diferentes clientes y sus órdenes de compra."
      ],
      "metadata": {
        "id": "tDvFelEXCtPB"
      }
    },
    {
      "cell_type": "markdown",
      "source": [
        "**¿Cómo podemos hacerlo?**\n",
        "\n",
        "Por ejemplo, podríamos crear una clase \"Producto\" que tenga atributos como nombre, descripción, precio, inventario, etc., y métodos para agregar y eliminar productos del inventario.\n",
        "\n",
        "De manera similar, podríamos crear una clase \"Cliente\" que tenga atributos como nombre, dirección de correo electrónico, historial de compras, etc., y métodos para realizar pedidos y revisar su historial de compras.\n",
        "\n",
        "Finalmente, podríamos crear una clase \"Orden\" que tenga atributos como los productos que se compraron, la cantidad, el costo total, etc., y métodos para confirmar la orden y actualizar el inventario.\n"
      ],
      "metadata": {
        "id": "WBaNntfvDcnQ"
      }
    },
    {
      "cell_type": "code",
      "source": [
        "class Producto:\n",
        "    def __init__(self, nombre, descripcion, precio, inventario):\n",
        "        self.nombre = nombre\n",
        "        self.descripcion = descripcion\n",
        "        self.precio = precio\n",
        "        self.inventario = inventario\n",
        "\n",
        "    def agregar_inventario(self, cantidad):\n",
        "        self.inventario += cantidad\n",
        "\n",
        "    def eliminar_inventario(self, cantidad):\n",
        "        self.inventario -= cantidad"
      ],
      "metadata": {
        "id": "fPeeKFK3Dil2"
      },
      "execution_count": null,
      "outputs": []
    },
    {
      "cell_type": "markdown",
      "source": [
        "En este ejemplo, la función __init__ es el constructor de la clase \"Producto\" y se utiliza para inicializar los atributos de la clase. Los métodos agregar_inventario y eliminar_inventario se utilizan para agregar o eliminar productos del inventario.\n",
        "\n",
        "Con estas clases, podemos manejar fácilmente la información de los productos, los clientes y las órdenes de compra en nuestro sistema de tienda en línea"
      ],
      "metadata": {
        "id": "xxxNYz0FDoUf"
      }
    },
    {
      "cell_type": "markdown",
      "source": [
        "## Ejercicios\n",
        "\n",
        "1. Crea una clase \"Persona\" que tenga atributos como nombre, edad, género y métodos para presentarse y saludar a otras personas.\n",
        "\n",
        "2. Crea una clase \"Coche\" que tenga atributos como marca, modelo, año, kilometraje y métodos para arrancar, acelerar y frenar.\n",
        "\n",
        "3. Crea una clase \"Rectángulo\" que tenga atributos como longitud y ancho y métodos para calcular el área y el perímetro.\n",
        "\n",
        "4. Crea una clase \"Banco\" que tenga atributos como nombre, dirección y métodos para abrir una cuenta, depositar dinero, retirar dinero y revisar el saldo.\n",
        "\n",
        "5. Crea una clase \"Estudiante\" que tenga atributos como nombre, edad, promedio y métodos para estudiar, hacer tareas y presentar exámenes."
      ],
      "metadata": {
        "id": "laT0U1q4D0eP"
      }
    },
    {
      "cell_type": "markdown",
      "source": [
        "Respuesta 1"
      ],
      "metadata": {
        "id": "YMvqODkt8Gqe"
      }
    },
    {
      "cell_type": "code",
      "source": [
        "class Persona:\n",
        "    def __init__(self, nombre, genero, edad, ):\n",
        "        self.nombre = nombre\n",
        "        self.genero = genero\n",
        "        self.edad = edad\n",
        "\n",
        "    def saludar(self):\n",
        "        print(f\"Hola .\")\n",
        "\n",
        "    def presentarse(self, otraper):\n",
        "        print(f\"Mi nombre es {self.nombre}.\")\n",
        "\n",
        "    def preguntar_como_esta(self, otraper):\n",
        "        print(f\"Como estas? {self.nombre}\")\n",
        "\n",
        "#Ejemplo\n",
        "persona1 = Persona(\"Paulo\",\"masculino\",21)\n",
        "persona2 = Persona(\"Natalia\",\"femenino\",22)\n",
        "\n",
        "persona1.saludar()\n",
        "persona2.saludar()\n",
        "\n",
        "persona1.presentarse(persona2)\n",
        "persona2.presentarse(persona1)\n",
        "\n",
        "persona1.preguntar_como_esta(persona1)\n",
        "persona2.preguntar_como_esta(persona2)\n",
        "\n"
      ],
      "metadata": {
        "id": "xnh8KjtgG-2A",
        "outputId": "0acdef32-e122-487d-943b-f092105a42a6",
        "colab": {
          "base_uri": "https://localhost:8080/"
        }
      },
      "execution_count": 6,
      "outputs": [
        {
          "output_type": "stream",
          "name": "stdout",
          "text": [
            "Hola .\n",
            "Hola .\n",
            "Mi nombre es Paulo.\n",
            "Mi nombre es Natalia.\n",
            "Como estas? Paulo\n",
            "Como estas? Natalia\n"
          ]
        }
      ]
    },
    {
      "cell_type": "markdown",
      "source": [
        "Respeusta 2"
      ],
      "metadata": {
        "id": "RLnJCo0oxXlF"
      }
    },
    {
      "cell_type": "code",
      "source": [
        "class Coche:\n",
        "    # Método constructor para inicializar los atributos del coche\n",
        "    def __init__(self, marca, modelo, año, kilometraje=0):\n",
        "        self.marca = marca\n",
        "        self.modelo = modelo\n",
        "        self.año = año\n",
        "        self.kilometraje = kilometraje\n",
        "        self.encendido = False\n",
        "\n",
        "    # Método para arrancar el coche\n",
        "    def arrancar(self):\n",
        "        if not self.encendido:\n",
        "            self.encendido = True\n",
        "            print(f\"{self.marca} {self.modelo} arrancó.\")\n",
        "        else:\n",
        "            print(f\"{self.marca} {self.modelo} ya está en marcha.\")\n",
        "\n",
        "    # Método para acelerar el coche\n",
        "    def acelerar(self, velocidad):\n",
        "        if self.encendido:\n",
        "            print(f\"{self.marca} {self.modelo} aceleró a {velocidad} km/h.\")\n",
        "        else:\n",
        "            print(f\"{self.marca} {self.modelo} no puede acelerar porque no está arrancado.\")\n",
        "\n",
        "    # Método para frenar el coche\n",
        "    def frenar(self):\n",
        "        if self.encendido:\n",
        "            print(f\"{self.marca} {self.modelo} frenó.\")\n",
        "        else:\n",
        "            print(f\"{self.marca} {self.modelo} no puede frenar porque no está arrancado.\")\n",
        "\n",
        "# Crear una instancia de la clase \"Coche\"\n",
        "coche1 = Coche(\"Toyota\", \"Corolla\", 2022)\n",
        "\n",
        "# Acceder a los atributos y métodos de la instancia\n",
        "coche1.arrancar()\n",
        "coche1.acelerar(60)\n",
        "coche1.frenar()\n"
      ],
      "metadata": {
        "colab": {
          "base_uri": "https://localhost:8080/"
        },
        "id": "OIcc6oFWxVad",
        "outputId": "8c75eb7b-f6e1-4fc1-b220-f4c7bbaf943f"
      },
      "execution_count": 2,
      "outputs": [
        {
          "output_type": "stream",
          "name": "stdout",
          "text": [
            "Toyota Corolla arrancó.\n",
            "Toyota Corolla aceleró a 60 km/h.\n",
            "Toyota Corolla frenó.\n"
          ]
        }
      ]
    },
    {
      "cell_type": "markdown",
      "source": [
        "Resoeusta 3"
      ],
      "metadata": {
        "id": "8dAsy-uIxv47"
      }
    },
    {
      "cell_type": "code",
      "source": [
        "class Rectangulo:\n",
        "    # Método constructor para inicializar los atributos del rectángulo\n",
        "    def __init__(self, longitud, ancho):\n",
        "        self.longitud = longitud\n",
        "        self.ancho = ancho\n",
        "\n",
        "    # Método para calcular el área del rectángulo\n",
        "    def calcular_area(self):\n",
        "        area = self.longitud * self.ancho\n",
        "        return area\n",
        "\n",
        "    # Método para calcular el perímetro del rectángulo\n",
        "    def calcular_perimetro(self):\n",
        "        perimetro = 2 * (self.longitud + self.ancho)\n",
        "        return perimetro\n",
        "\n",
        "# Crear una instancia de la clase \"Rectangulo\"\n",
        "rectangulo1 = Rectangulo(5, 3)\n",
        "\n",
        "# Calcular el área y el perímetro del rectángulo\n",
        "area = rectangulo1.calcular_area()\n",
        "perimetro = rectangulo1.calcular_perimetro()\n",
        "\n",
        "# Imprimir los resultados\n",
        "print(\"Área del rectángulo:\", area)\n",
        "print(\"Perímetro del rectángulo:\", perimetro)\n"
      ],
      "metadata": {
        "colab": {
          "base_uri": "https://localhost:8080/"
        },
        "id": "r0FUgFnMx1aW",
        "outputId": "d4229bba-2266-4484-de35-8138068f7472"
      },
      "execution_count": 3,
      "outputs": [
        {
          "output_type": "stream",
          "name": "stdout",
          "text": [
            "Área del rectángulo: 15\n",
            "Perímetro del rectángulo: 16\n"
          ]
        }
      ]
    },
    {
      "cell_type": "markdown",
      "source": [
        "Respuesta 4"
      ],
      "metadata": {
        "id": "xCTde_JEx740"
      }
    },
    {
      "cell_type": "code",
      "source": [
        "class Banco:\n",
        "    # Método constructor para inicializar los atributos del banco\n",
        "    def __init__(self, nombre, direccion):\n",
        "        self.nombre = nombre\n",
        "        self.direccion = direccion\n",
        "        self.cuentas = {}  # Un diccionario para almacenar las cuentas de los clientes\n",
        "\n",
        "    # Método para abrir una cuenta en el banco\n",
        "    def abrir_cuenta(self, cliente, saldo_inicial=0):\n",
        "        if cliente not in self.cuentas:\n",
        "            self.cuentas[cliente] = saldo_inicial\n",
        "            print(f\"Se ha abierto una cuenta para {cliente} con un saldo inicial de ${saldo_inicial}.\")\n",
        "        else:\n",
        "            print(f\"{cliente} ya tiene una cuenta en {self.nombre}.\")\n",
        "\n",
        "    # Método para depositar dinero en una cuenta\n",
        "    def depositar(self, cliente, cantidad):\n",
        "        if cliente in self.cuentas:\n",
        "            self.cuentas[cliente] += cantidad\n",
        "            print(f\"Se han depositado ${cantidad} en la cuenta de {cliente}. Saldo actual: ${self.cuentas[cliente]}.\")\n",
        "        else:\n",
        "            print(f\"{cliente} no tiene una cuenta en {self.nombre}.\")\n",
        "\n",
        "    # Método para retirar dinero de una cuenta\n",
        "    def retirar(self, cliente, cantidad):\n",
        "        if cliente in self.cuentas:\n",
        "            if self.cuentas[cliente] >= cantidad:\n",
        "                self.cuentas[cliente] -= cantidad\n",
        "                print(f\"Se han retirado ${cantidad} de la cuenta de {cliente}. Saldo actual: ${self.cuentas[cliente]}.\")\n",
        "            else:\n",
        "                print(f\"Fondos insuficientes en la cuenta de {cliente}. Saldo actual: ${self.cuentas[cliente]}.\")\n",
        "        else:\n",
        "            print(f\"{cliente} no tiene una cuenta en {self.nombre}.\")\n",
        "\n",
        "    # Método para revisar el saldo de una cuenta\n",
        "    def saldo(self, cliente):\n",
        "        if cliente in self.cuentas:\n",
        "            print(f\"Saldo de la cuenta de {cliente} en {self.nombre}: ${self.cuentas[cliente]}.\")\n",
        "        else:\n",
        "            print(f\"{cliente} no tiene una cuenta en {self.nombre}.\")\n",
        "\n",
        "# Crear una instancia de la clase \"Banco\"\n",
        "mi_banco = Banco(\"Mi Banco\", \"Calle Principal\")\n",
        "\n",
        "# Abrir cuentas, depositar y retirar dinero, y revisar saldos\n",
        "mi_banco.abrir_cuenta(\"Alice\", 1000)\n",
        "mi_banco.depositar(\"Alice\", 500)\n",
        "mi_banco.retirar(\"Alice\", 200)\n",
        "mi_banco.saldo(\"Alice\")\n",
        "mi_banco.abrir_cuenta(\"Bob\")\n",
        "mi_banco.saldo(\"Bob\")"
      ],
      "metadata": {
        "colab": {
          "base_uri": "https://localhost:8080/"
        },
        "id": "mBTRywz3x9tN",
        "outputId": "e5e711cb-e4c6-48df-d81e-837d41a7ea92"
      },
      "execution_count": 4,
      "outputs": [
        {
          "output_type": "stream",
          "name": "stdout",
          "text": [
            "Se ha abierto una cuenta para Alice con un saldo inicial de $1000.\n",
            "Se han depositado $500 en la cuenta de Alice. Saldo actual: $1500.\n",
            "Se han retirado $200 de la cuenta de Alice. Saldo actual: $1300.\n",
            "Saldo de la cuenta de Alice en Mi Banco: $1300.\n",
            "Se ha abierto una cuenta para Bob con un saldo inicial de $0.\n",
            "Saldo de la cuenta de Bob en Mi Banco: $0.\n"
          ]
        }
      ]
    },
    {
      "cell_type": "markdown",
      "source": [
        "Resouesta 5"
      ],
      "metadata": {
        "id": "EfIoDU4pyEqR"
      }
    },
    {
      "cell_type": "code",
      "source": [
        "class Estudiante:\n",
        "    # Método constructor para inicializar los atributos del estudiante\n",
        "    def __init__(self, nombre, edad, promedio):\n",
        "        self.nombre = nombre\n",
        "        self.edad = edad\n",
        "        self.promedio = promedio\n",
        "\n",
        "    # Método para que el estudiante estudie\n",
        "    def estudiar(self, horas_estudio):\n",
        "        print(f\"{self.nombre} está estudiando durante {horas_estudio} horas.\")\n",
        "\n",
        "    # Método para que el estudiante haga tareas\n",
        "    def hacer_tareas(self, horas_tareas):\n",
        "        print(f\"{self.nombre} está haciendo tareas durante {horas_tareas} horas.\")\n",
        "\n",
        "    # Método para que el estudiante presente un examen\n",
        "    def presentar_examen(self, materia, calificacion):\n",
        "        print(f\"{self.nombre} presentó un examen de {materia} y obtuvo una calificación de {calificacion}.\")\n",
        "\n",
        "# Crear una instancia de la clase \"Estudiante\"\n",
        "estudiante1 = Estudiante(\"Juan\", 18, 9.5)\n",
        "\n",
        "# Realizar actividades de estudiante\n",
        "estudiante1.estudiar(4)\n",
        "estudiante1.hacer_tareas(2)\n",
        "estudiante1.presentar_examen(\"Matemáticas\", 8.0)\n"
      ],
      "metadata": {
        "colab": {
          "base_uri": "https://localhost:8080/"
        },
        "id": "C7V6Un_MyGMF",
        "outputId": "e3cd4c07-56f2-4478-8c17-745e75bced11"
      },
      "execution_count": 5,
      "outputs": [
        {
          "output_type": "stream",
          "name": "stdout",
          "text": [
            "Juan está estudiando durante 4 horas.\n",
            "Juan está haciendo tareas durante 2 horas.\n",
            "Juan presentó un examen de Matemáticas y obtuvo una calificación de 8.0.\n"
          ]
        }
      ]
    }
  ]
}